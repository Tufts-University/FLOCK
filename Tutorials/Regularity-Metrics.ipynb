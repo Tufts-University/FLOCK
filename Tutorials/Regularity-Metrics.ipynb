{
 "cells": [
  {
   "cell_type": "code",
   "execution_count": 6,
   "metadata": {},
   "outputs": [],
   "source": [
    "import os \n",
    "import seaborn as sns\n",
    "import numpy as np\n",
    "import pandas as pd\n",
    "import matplotlib.pyplot as plt\n",
    "\n",
    "# import custom functions\n",
    "os.chdir('..')\n",
    "from RuckFunctions import DataLoading, Preprocessing, RegularityFeats, PACS\n"
   ]
  },
  {
   "cell_type": "markdown",
   "metadata": {},
   "source": [
    "Load data"
   ]
  },
  {
   "cell_type": "code",
   "execution_count": 2,
   "metadata": {},
   "outputs": [],
   "source": [
    "# Initialize path to data (UTM-converted datasets)\n",
    "data_dir = os.getcwd() + '\\\\SampleData'\n",
    "\n",
    "# Load datasets\n",
    "raw_datasets = DataLoading.load_data(data_dir)\n",
    "\n",
    "# Re-shape datasets\n",
    "datasets = DataLoading.pivot_datsets(raw_datasets)"
   ]
  },
  {
   "cell_type": "markdown",
   "metadata": {},
   "source": [
    "Get the interpolated data"
   ]
  },
  {
   "cell_type": "code",
   "execution_count": 3,
   "metadata": {},
   "outputs": [],
   "source": [
    "# get interpolated datasets\n",
    "interp_datasets = Preprocessing.interpolate_datasets(datasets, threshold = 0.99)"
   ]
  },
  {
   "cell_type": "markdown",
   "metadata": {},
   "source": [
    "Get movement periods\n"
   ]
  },
  {
   "cell_type": "code",
   "execution_count": 4,
   "metadata": {},
   "outputs": [],
   "source": [
    "# get slices for movement periods and break times   \n",
    "rucks_bySquad, rests_bySquad, all_stops = Preprocessing.get_slices_byArea(interp_datasets, plot=False)"
   ]
  },
  {
   "cell_type": "markdown",
   "metadata": {},
   "source": [
    "Get the smoothed data of one example squad\n"
   ]
  },
  {
   "cell_type": "code",
   "execution_count": 5,
   "metadata": {},
   "outputs": [],
   "source": [
    "smooth_rucks = Preprocessing.spline_smoothing(rucks_bySquad[1], s=3e1, UTM=True)\n",
    "names = smooth_rucks[0].longitude.columns"
   ]
  },
  {
   "cell_type": "markdown",
   "metadata": {},
   "source": [
    "PACS location entropy"
   ]
  },
  {
   "cell_type": "code",
   "execution_count": 16,
   "metadata": {},
   "outputs": [
    {
     "name": "stdout",
     "output_type": "stream",
     "text": [
      "re-orienting data\n"
     ]
    },
    {
     "name": "stderr",
     "output_type": "stream",
     "text": [
      "100%|██████████| 497/497 [02:55<00:00,  2.84it/s]\n",
      "100%|██████████| 1/1 [02:55<00:00, 175.23s/it]\n"
     ]
    },
    {
     "data": {
      "text/html": [
       "<div>\n",
       "<style scoped>\n",
       "    .dataframe tbody tr th:only-of-type {\n",
       "        vertical-align: middle;\n",
       "    }\n",
       "\n",
       "    .dataframe tbody tr th {\n",
       "        vertical-align: top;\n",
       "    }\n",
       "\n",
       "    .dataframe thead th {\n",
       "        text-align: right;\n",
       "    }\n",
       "</style>\n",
       "<table border=\"1\" class=\"dataframe\">\n",
       "  <thead>\n",
       "    <tr style=\"text-align: right;\">\n",
       "      <th>Member_ID</th>\n",
       "      <th>Member 1</th>\n",
       "      <th>Member 2</th>\n",
       "      <th>Member 3</th>\n",
       "      <th>Member 4</th>\n",
       "      <th>Member 5</th>\n",
       "      <th>Member 6</th>\n",
       "      <th>Member 7</th>\n",
       "      <th>Member 8</th>\n",
       "    </tr>\n",
       "  </thead>\n",
       "  <tbody>\n",
       "    <tr>\n",
       "      <th>0</th>\n",
       "      <td>0.076741</td>\n",
       "      <td>0.058488</td>\n",
       "      <td>0.056356</td>\n",
       "      <td>0.107934</td>\n",
       "      <td>0.093528</td>\n",
       "      <td>0.068531</td>\n",
       "      <td>0.073459</td>\n",
       "      <td>0.087093</td>\n",
       "    </tr>\n",
       "  </tbody>\n",
       "</table>\n",
       "</div>"
      ],
      "text/plain": [
       "Member_ID  Member 1  Member 2  Member 3  Member 4  Member 5  Member 6  \\\n",
       "0          0.076741  0.058488  0.056356  0.107934  0.093528  0.068531   \n",
       "\n",
       "Member_ID  Member 7  Member 8  \n",
       "0          0.073459  0.087093  "
      ]
     },
     "execution_count": 16,
     "metadata": {},
     "output_type": "execute_result"
    }
   ],
   "source": [
    "ruck_slices_oriented = PACS.PACS_transform(smooth_rucks[1:2])\n",
    "PACS_entropies = RegularityFeats.PACS_entropy(ruck_slices_oriented, names)\n",
    "PACS_entropies"
   ]
  },
  {
   "cell_type": "markdown",
   "metadata": {},
   "source": [
    "Vector autoregression"
   ]
  },
  {
   "cell_type": "code",
   "execution_count": null,
   "metadata": {},
   "outputs": [],
   "source": []
  },
  {
   "cell_type": "markdown",
   "metadata": {},
   "source": [
    "Time series entropy"
   ]
  },
  {
   "cell_type": "code",
   "execution_count": null,
   "metadata": {},
   "outputs": [],
   "source": []
  },
  {
   "cell_type": "markdown",
   "metadata": {},
   "source": [
    "Doctrine reccomendations"
   ]
  },
  {
   "cell_type": "code",
   "execution_count": null,
   "metadata": {},
   "outputs": [],
   "source": []
  }
 ],
 "metadata": {
  "kernelspec": {
   "display_name": "ruckenv",
   "language": "python",
   "name": "python3"
  },
  "language_info": {
   "codemirror_mode": {
    "name": "ipython",
    "version": 3
   },
   "file_extension": ".py",
   "mimetype": "text/x-python",
   "name": "python",
   "nbconvert_exporter": "python",
   "pygments_lexer": "ipython3",
   "version": "3.9.13"
  }
 },
 "nbformat": 4,
 "nbformat_minor": 2
}
